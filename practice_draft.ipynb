{
 "cells": [
  {
   "cell_type": "code",
   "execution_count": 15,
   "metadata": {},
   "outputs": [
    {
     "name": "stdout",
     "output_type": "stream",
     "text": [
      "Python版本信息:\n",
      "3.10.6 (main, Oct 24 2022, 16:07:47) [GCC 11.2.0]\n",
      "torch版本信息:\n",
      "1.13.1+cu117\n",
      "python路径:\n",
      "/opt/anaconda3/envs/sd-webui/bin/python\n"
     ]
    }
   ],
   "source": [
    "import sys\n",
    "print(\"Python版本信息:\")\n",
    "print(sys.version)\n",
    "\n",
    "import torch\n",
    "print(\"torch版本信息:\")\n",
    "print(torch.__version__)\n",
    "\n",
    "import sys\n",
    "print(\"python路径:\")\n",
    "print(sys.executable)"
   ]
  },
  {
   "cell_type": "code",
   "execution_count": 16,
   "metadata": {},
   "outputs": [],
   "source": [
    "from typing import Tuple, Optional\n",
    "from denoising_diffusion.utils import gather\n",
    "\n",
    "import torch\n",
    "import torch.nn.functional as F\n",
    "import torch.utils.data\n",
    "from torch import nn\n",
    "\n",
    "class DenoiseDiffusion:\n",
    "    \"\"\"\n",
    "    ## Denoise Diffusion\n",
    "    \"\"\"\n",
    "\n",
    "    def __init__(self, eps_model: nn.Module, n_steps: int, device: torch.device):\n",
    "        \"\"\"\n",
    "        * `eps_model` is $\\textcolor{lightgreen}{\\epsilon_\\theta}(x_t, t)$ model\n",
    "        * `n_steps` is $t$\n",
    "        * `device` is the device to place constants on\n",
    "        \"\"\"\n",
    "        super().__init__()\n",
    "        self.eps_model = eps_model\n",
    "\n",
    "        # beta取值，线性等分向量\n",
    "        self.beta = torch.linspace(0.0001, 0.02, n_steps).to(device)\n",
    "\n",
    "        # alpha取值， 1-beta\n",
    "        self.alpha = 1. - self.beta\n",
    "        \n",
    "        \"\"\"\n",
    "        b = torch.Tensor([1,2,3,4])\n",
    "        a = torch.cumprod(b, dim=0)\n",
    "        print(a) a=[1,2,6,24]\n",
    "        \"\"\"\n",
    "        self.alpha_bar = torch.cumprod(self.alpha, dim=0)\n",
    "        \n",
    "        #step默认值为1000\n",
    "        self.n_steps = n_steps\n",
    "        \n",
    "        # sigma^2 = beta\n",
    "        self.sigma2 = self.beta"
   ]
  },
  {
   "cell_type": "code",
   "execution_count": null,
   "metadata": {},
   "outputs": [],
   "source": [
    "ddim = DenoiseDiffusion(None, n_steps=1000, device =\"cuda\",)\n",
    "beta = nn.Parameter(ddim.beta.to(torch.float32), requires_grad=False)\n",
    "\n",
    "print(beta)\n"
   ]
  },
  {
   "cell_type": "code",
   "execution_count": null,
   "metadata": {},
   "outputs": [],
   "source": [
    "import numpy as np\n",
    "n_steps= 1000\n",
    "s_steps= 50\n",
    "c = n_steps // s_steps\n",
    "time_steps = np.asarray(list(range(0, n_steps, c))) + 1\n",
    "print(time_steps)"
   ]
  },
  {
   "cell_type": "code",
   "execution_count": null,
   "metadata": {},
   "outputs": [],
   "source": [
    "\n",
    "class DenoiseDiffusion:\n",
    "    \"\"\"\n",
    "    ## Denoise Diffusion\n",
    "    \"\"\"\n",
    "\n",
    "    def __init__(self, eps_model: nn.Module, n_steps: int, s_steps: int,device: torch.device):\n",
    "        \"\"\"\n",
    "        * `eps_model` is $\\textcolor{lightgreen}{\\epsilon_\\theta}(x_t, t)$ model\n",
    "        * `n_steps` is $t$\n",
    "        * `device` is the device to place constants on\n",
    "        \"\"\"\n",
    "        super().__init__()\n",
    "        self.eps_model = eps_model\n",
    "\n",
    "        # beta取值，线性等分向量\n",
    "        self.beta = torch.linspace(0.00085, 0.012, n_steps).to(device)\n",
    "\n",
    "        # alpha取值， 1-beta\n",
    "        self.alpha = 1. - self.beta\n",
    "        \n",
    "        \"\"\"\n",
    "        b = torch.Tensor([1,2,3,4])\n",
    "        a = torch.cumprod(b, dim=0)\n",
    "        print(a) a=[1,2,6,24]\n",
    "        \"\"\"\n",
    "        self.alpha_bar = torch.cumprod(self.alpha, dim=0)\n",
    "        \n",
    "        #step默认值为T=1000(n_steps), S=50(s_steps)\n",
    "        self.n_steps = n_steps\n",
    "        \n",
    "        c = self.n_steps // s_steps\n",
    "        self.time_steps = np.asarray(list(range(0, self.n_steps, c))) + 1"
   ]
  },
  {
   "cell_type": "code",
   "execution_count": null,
   "metadata": {},
   "outputs": [],
   "source": [
    "ddim2 = DenoiseDiffusion(None, n_steps=1000, s_steps=50, device =\"cuda\",)\n",
    "\n",
    "alpha_bar = ddim2.alpha_bar\n",
    "ddim_alpha = alpha_bar[ddim2.time_steps].clone().to(torch.float32)\n",
    "\n",
    "print(ddim2.time_steps)\n",
    "print(ddim_alpha)"
   ]
  },
  {
   "cell_type": "code",
   "execution_count": null,
   "metadata": {},
   "outputs": [],
   "source": [
    "ddim_alpha_prev = torch.cat([alpha_bar[0:1], alpha_bar[ddim2.time_steps[:-1]]])\n",
    "ddim_alpha_prev"
   ]
  },
  {
   "cell_type": "code",
   "execution_count": null,
   "metadata": {},
   "outputs": [],
   "source": [
    "ddim_eta=1\n",
    "ddim_sigma = (ddim_eta *\n",
    "                               ((1 - ddim_alpha_prev) / (1 - ddim_alpha) *\n",
    "                                (1 - ddim_alpha / ddim_alpha_prev)) ** .5)\n",
    "\n",
    "ddim_sigma"
   ]
  },
  {
   "cell_type": "code",
   "execution_count": null,
   "metadata": {},
   "outputs": [],
   "source": [
    "ddim_alpha_prev = alpha_bar[ddim2.time_steps[:-1]]\n",
    "print(ddim_alpha_prev)\n",
    "ddim_eta=1\n",
    "ddim_sigma = (ddim_eta *\n",
    "                               ((1 - ddim_alpha_prev) / (1 - ddim_alpha) *\n",
    "                                (1 - ddim_alpha / ddim_alpha_prev)) ** .5)\n",
    "\n",
    "print(ddim_sigma)"
   ]
  },
  {
   "cell_type": "code",
   "execution_count": 9,
   "metadata": {},
   "outputs": [
    {
     "name": "stdout",
     "output_type": "stream",
     "text": [
      "tensor([0.9983, 0.9789, 0.9557, 0.9288, 0.8987, 0.8656, 0.8301, 0.7924, 0.7531,\n",
      "        0.7126, 0.6712, 0.6294, 0.5875, 0.5460, 0.5052, 0.4653, 0.4266, 0.3894,\n",
      "        0.3539, 0.3202, 0.2884, 0.2585, 0.2308, 0.2051, 0.1814, 0.1597, 0.1400,\n",
      "        0.1222, 0.1062, 0.0918, 0.0791, 0.0678, 0.0578, 0.0491, 0.0416, 0.0350,\n",
      "        0.0293, 0.0245, 0.0203, 0.0168, 0.0138, 0.0113, 0.0092, 0.0075, 0.0061,\n",
      "        0.0049, 0.0039, 0.0031, 0.0025, 0.0020], device='cuda:0')\n",
      "tensor([0.9991, 0.9983, 0.9789, 0.9557, 0.9288, 0.8987, 0.8656, 0.8301, 0.7924,\n",
      "        0.7531, 0.7126, 0.6712, 0.6294, 0.5875, 0.5460, 0.5052, 0.4653, 0.4266,\n",
      "        0.3894, 0.3539, 0.3202, 0.2884, 0.2585, 0.2308, 0.2051, 0.1814, 0.1597,\n",
      "        0.1400, 0.1222, 0.1062, 0.0918, 0.0791, 0.0678, 0.0578, 0.0491, 0.0416,\n",
      "        0.0350, 0.0293, 0.0245, 0.0203, 0.0168, 0.0138, 0.0113, 0.0092, 0.0075,\n",
      "        0.0061, 0.0049, 0.0039, 0.0031, 0.0025], device='cuda:0')\n",
      "tensor([0.0207, 0.0397, 0.1063, 0.1323, 0.1510, 0.1665, 0.1802, 0.1927, 0.2042,\n",
      "        0.2151, 0.2253, 0.2351, 0.2444, 0.2534, 0.2620, 0.2703, 0.2783, 0.2861,\n",
      "        0.2937, 0.3010, 0.3081, 0.3150, 0.3218, 0.3284, 0.3348, 0.3410, 0.3471,\n",
      "        0.3531, 0.3589, 0.3646, 0.3702, 0.3756, 0.3809, 0.3861, 0.3913, 0.3963,\n",
      "        0.4012, 0.4060, 0.4107, 0.4154, 0.4199, 0.4244, 0.4288, 0.4331, 0.4374,\n",
      "        0.4416, 0.4457, 0.4498, 0.4538, 0.4577], device='cuda:0')\n"
     ]
    }
   ],
   "source": [
    "from typing import Tuple, Optional\n",
    "from denoising_diffusion.utils import gather\n",
    "\n",
    "import torch\n",
    "import torch.nn.functional as F\n",
    "import torch.utils.data\n",
    "from torch import nn\n",
    "\n",
    "import numpy as np\n",
    "\n",
    "class DenoiseDiffusion3:\n",
    "    \"\"\"\n",
    "    ## Denoise Diffusion\n",
    "    \"\"\"\n",
    "\n",
    "    def __init__(self, eps_model: nn.Module, n_steps: int, s_steps: int, ddim_eta: float, device: torch.device):\n",
    "        \"\"\"\n",
    "        * `eps_model` is $\\textcolor{lightgreen}{\\epsilon_\\theta}(x_t, t)$ model\n",
    "        * `n_steps` is $t$\n",
    "        * `device` is the device to place constants on\n",
    "        \"\"\"\n",
    "        super().__init__()\n",
    "        self.eps_model = eps_model\n",
    "\n",
    "        # beta取值，线性等分向量\n",
    "        self.beta = torch.linspace(0.00085, 0.012, n_steps).to(device)\n",
    "\n",
    "        # alpha取值， 1-beta\n",
    "        self.alpha = 1. - self.beta\n",
    "        \n",
    "        \"\"\"\n",
    "        b = torch.Tensor([1,2,3,4])\n",
    "        a = torch.cumprod(b, dim=0)\n",
    "        print(a) a=[1,2,6,24]\n",
    "        \"\"\"\n",
    "        self.alpha_bar = torch.cumprod(self.alpha, dim=0)\n",
    "        \n",
    "        #step默认值为T=1000(n_steps), S=50(s_steps)\n",
    "        self.n_steps = n_steps\n",
    "        \n",
    "        c = self.n_steps // s_steps\n",
    "        self.time_steps = np.asarray(list(range(0, self.n_steps, c))) + 1\n",
    "        \n",
    "        \n",
    "        # sigma^2 = beta in DDPM\n",
    "        # self.sigma2 = self.beta\n",
    "\n",
    "        # for DDIM\n",
    "        self.ddim_alpha = self.alpha_bar[self.time_steps].clone().to(torch.float32)\n",
    "        self.ddim_alpha_sqrt = torch.sqrt(self.ddim_alpha)\n",
    "        self.ddim_alpha_prev = torch.cat([self.alpha_bar[0:1], self.alpha_bar[self.time_steps[:-1]]])\n",
    "        self.ddim_sigma = (ddim_eta *\n",
    "                               ((1 - self.ddim_alpha_prev) / (1 - self.ddim_alpha) *\n",
    "                                (1 - self.ddim_alpha / self.ddim_alpha_prev)) ** .5)\n",
    "        \n",
    "        self.ddim_sqrt_one_minus_alpha = (1. - self.ddim_alpha) ** .5\n",
    "        \n",
    "ddim3 = DenoiseDiffusion3(None, n_steps=1000, s_steps=50, ddim_eta=1.0, device =\"cuda\", )\n",
    "print(ddim3.ddim_alpha)\n",
    "print(ddim3.ddim_alpha_prev)\n",
    "print(ddim3.ddim_sigma)"
   ]
  },
  {
   "cell_type": "code",
   "execution_count": 14,
   "metadata": {},
   "outputs": [
    {
     "name": "stdout",
     "output_type": "stream",
     "text": [
      "[781 761 741 721 701 681 661 641 621 601 581 561 541 521 501 481 461 441\n",
      " 421 401 381 361 341 321 301 281 261 241 221 201 181 161 141 121 101  81\n",
      "  61  41  21   1]\n"
     ]
    }
   ],
   "source": [
    "skip_steps=10\n",
    "time_steps = np.flip(ddim3.time_steps)[skip_steps:]\n",
    "print(time_steps)"
   ]
  },
  {
   "cell_type": "code",
   "execution_count": null,
   "metadata": {},
   "outputs": [],
   "source": [
    "torch.randint(0, len(self.time_steps), (11,), device=x0.device, dtype=torch.long)"
   ]
  }
 ],
 "metadata": {
  "kernelspec": {
   "display_name": "sd-webui",
   "language": "python",
   "name": "python3"
  },
  "language_info": {
   "codemirror_mode": {
    "name": "ipython",
    "version": 3
   },
   "file_extension": ".py",
   "mimetype": "text/x-python",
   "name": "python",
   "nbconvert_exporter": "python",
   "pygments_lexer": "ipython3",
   "version": "3.10.6"
  }
 },
 "nbformat": 4,
 "nbformat_minor": 2
}
